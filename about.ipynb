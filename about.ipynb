{
  "cells": [
    {
      "cell_type": "raw",
      "metadata": {},
      "source": [
        "---\n",
        "title: \"About\"\n",
        "image: profile.png\n",
        "about:\n",
        "  template: jolla\n",
        "  links:\n",
        "    - icon: github\n",
        "      text: Github\n",
        "      href: https://github.com\n",
        "---"
      ],
      "id": "52a2df52"
    },
    {
      "cell_type": "markdown",
      "metadata": {},
      "source": [
        "```{css, echo = FALSE}\n",
        ".justify {\n",
        "  text-align: justify !important\n",
        "}\n",
        "```\n",
        "\n",
        "\n",
        "::: {.justify}\n",
        "\n",
        " - 👋 Hi, I’m André Meichtry\n",
        " - 👀 I’m interested in philosophy, physics, quantitative research methodology and biostatistics.\n",
        " - 🌱 I’m currently working as a statistics consultant at the School of Health Professions, Bern University of Applied Sciences.\n",
        " - ❤️ I like 🏃.\n",
        "\n",
        "*******************************\n",
        "\n",
        "🏢 \n",
        "Berner Fachhochschule / Bern University of Applied Sciences\\\n",
        "Departement Gesundheit / Department of Health Professions\\\n",
        "André Meichtry\\\n",
        "Murtenstrasse 10\\\n",
        "(Büro: Finkenhubelweg 11, Raum/Office F108)\\\n",
        "3008 Bern\\\n",
        "Switzerland\\\n",
        "+41 31 848 60 18\\\n",
        "\n",
        "[andre.meichtry@bfh.ch](mailto:andre.meichtry@bfh.ch)\\\n",
        "[bfh.ch/gesundheit](bfh.ch/gesundheit)"
      ],
      "id": "37f62224"
    }
  ],
  "metadata": {
    "kernelspec": {
      "display_name": "Python 3",
      "language": "python",
      "name": "python3"
    }
  },
  "nbformat": 4,
  "nbformat_minor": 5
}